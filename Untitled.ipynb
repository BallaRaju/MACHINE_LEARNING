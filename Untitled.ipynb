{
 "cells": [
  {
   "cell_type": "markdown",
   "id": "914fe2e5-a851-4445-bb98-bc6829524425",
   "metadata": {},
   "source": [
    "# Q1: What are missing values in a dataset? Why is it essential to handle missing values? Name some algorithms that are not affected by missing values."
   ]
  },
  {
   "cell_type": "markdown",
   "id": "4c8ccb06-6de7-4620-a2b0-29ffb1169f03",
   "metadata": {},
   "source": [
    "## Missing values: Absent data points. Essential for accurate analysis. Decision trees, random forest, XGBoost less affected.\n"
   ]
  },
  {
   "cell_type": "markdown",
   "id": "0b97f427-1a10-42a0-bd11-f18e1344d967",
   "metadata": {},
   "source": [
    "# Q2: List down techniques used to handle missing data. Give an example of each with python code."
   ]
  },
  {
   "cell_type": "code",
   "execution_count": 3,
   "id": "673bc17f-da9d-43ec-b30c-a064b2bb95a2",
   "metadata": {},
   "outputs": [],
   "source": [
    "# Deletion: Remove rows or columns with missing values.\n",
    "import pandas as pd\n",
    "import numpy as np\n",
    "df = pd.DataFrame({'A': [1, 2, np.nan], 'B': [4, np.nan, 6], 'C': [7, 8, 9]})\n",
    "df.dropna(inplace=True)  # Remove rows with missing values\n"
   ]
  },
  {
   "cell_type": "code",
   "execution_count": 4,
   "id": "ec8a4068-9a30-4b27-bc03-c6064e20691f",
   "metadata": {},
   "outputs": [],
   "source": [
    "# Imputation: Fill missing values with statistical measures.\n",
    "df.fillna(df.mean(), inplace=True)  # Fill with mean\n"
   ]
  },
  {
   "cell_type": "code",
   "execution_count": 5,
   "id": "5dd8b4cf-e068-4929-911f-c54886d0b0dc",
   "metadata": {},
   "outputs": [],
   "source": [
    "# Interpolation: Estimate missing values based on neighboring values.\n",
    "df.interpolate(inplace=True)  # Linear interpolation\n"
   ]
  },
  {
   "cell_type": "markdown",
   "id": "328ee2a2-51db-407c-83ed-768fcc5643c9",
   "metadata": {},
   "source": [
    "# Q3: Explain the imbalanced data. What will happen if imbalanced data is not handled?"
   ]
  },
  {
   "cell_type": "markdown",
   "id": "720f0cb7-35a2-433e-b1a2-3fa55e5456d0",
   "metadata": {},
   "source": [
    "## Imbalanced data: Unequal distribution of classes. Leads to biased models favoring majority class. Handling essential for accurate predictions.\n"
   ]
  },
  {
   "cell_type": "markdown",
   "id": "029766d6-09d2-44b3-af20-58b75c791ab5",
   "metadata": {},
   "source": [
    "# Q4: What are Up-sampling and Down-sampling? Explain with an example when up-sampling and down- sampling are required."
   ]
  },
  {
   "cell_type": "markdown",
   "id": "642dc2eb-b0fc-4579-98b4-5c8a12e88ffa",
   "metadata": {
    "tags": []
   },
   "source": [
    "## **Up-sampling:** Increases minority class instances. Use when minority class is too small.\n",
    "\n",
    "## **Down-sampling:** Decreases majority class instances. Use when dataset is too large.\n",
    "\n",
    "## **Example:** Fraud detection with 99% non-fraudulent and 1% fraudulent transactions. Up-sampling fraudulent transactions can help model learn better. \n"
   ]
  },
  {
   "cell_type": "markdown",
   "id": "e1fe1ddb-7725-4b76-bfbc-721377889ee3",
   "metadata": {},
   "source": [
    "# Q5: What is data Augmentation? Explain SMOTE."
   ]
  },
  {
   "cell_type": "markdown",
   "id": "8e43bda9-b526-48da-98e3-1718b360883e",
   "metadata": {
    "tags": []
   },
   "source": [
    "## **Data Augmentation:** Creating new training data from existing data by applying random transformations. Improves model generalization.\n",
    "\n",
    "## **SMOTE (Synthetic Minority Over-sampling Technique):** Creates synthetic data points for minority class in imbalanced datasets. Works by selecting a minority class instance, finding its k-nearest neighbors, and creating new data points along the line segments joining the instance and its neighbors. \n"
   ]
  },
  {
   "cell_type": "markdown",
   "id": "0460ab6c-9be3-42c7-9fd0-25cbbd3647b6",
   "metadata": {},
   "source": [
    "## Q6: What are outliers in a dataset? Why is it essential to handle outliers?"
   ]
  },
  {
   "cell_type": "markdown",
   "id": "72d0c399-963b-499c-929f-f3386b549991",
   "metadata": {},
   "source": [
    "# Outliers: Data points significantly different from others. Can affect model performance, bias results. Essential to identify and handle appropriately.\n"
   ]
  },
  {
   "cell_type": "markdown",
   "id": "08c15762-8269-4bff-8b7d-dc7a6b8edc23",
   "metadata": {},
   "source": [
    "# Q7: You are working on a project that requires analyzing customer data. However, you notice that some of the data is missing. What are some techniques you can use to handle the missing data in your analysis?"
   ]
  },
  {
   "cell_type": "markdown",
   "id": "5d97f67d-866c-4a1c-b178-212f231ce1ef",
   "metadata": {},
   "source": [
    "# **Techniques to handle missing customer data:**\n",
    "\n",
    "* **Deletion:** Remove rows or columns with missing values.\n",
    "* **Imputation:** Fill missing values with statistical measures (mean, median, mode) or predictive models.\n",
    "* **Categorization:** Create a new category for missing values.\n",
    "* **Analysis:** Explore reasons for missing data, understand impact on analysis.\n",
    "* **Algorithm selection:** Choose algorithms robust to missing data (decision trees, random forest).\n"
   ]
  },
  {
   "cell_type": "markdown",
   "id": "242612a3-bdf3-4311-b9ad-87e2cd13a7d7",
   "metadata": {},
   "source": [
    "## Q8: You are working with a large dataset and find that a small percentage of the data is missing. What are some strategies you can use to determine if the missing data is missing at random or if there is a pattern to the missing data?"
   ]
  },
  {
   "cell_type": "markdown",
   "id": "ad373381-d202-4a4f-89a6-4b24bb201ffb",
   "metadata": {},
   "source": [
    "# **Strategies to determine missing data pattern:**\n",
    "\n",
    "* **Missing Completely At Random (MCAR):** Missing data is unrelated to any other variables.\n",
    "* **Missing At Random (MAR):** Missing data is related to observed data but not missing data itself.\n",
    "* **Missing Not At Random (MNAR):** Missing data is related to both observed and unobserved data.\n",
    "\n",
    "**Techniques:**\n",
    "\n",
    "* **Visualization:** Explore missing data patterns using missing data plots.\n",
    "* **Statistical tests:** Conduct tests to check for relationships between missing data and other variables.\n",
    "* **Domain knowledge:** Use expert knowledge to understand potential reasons for missing data.\n"
   ]
  },
  {
   "cell_type": "markdown",
   "id": "c81278fa-2299-4432-9d6e-2f092bcaafe4",
   "metadata": {},
   "source": [
    "## Q9: Suppose you are working on a medical diagnosis project and find that the majority of patients in the dataset do not have the condition of interest, while a small percentage do. What are some strategies you can use to evaluate the performance of your machine learning model on this imbalanced dataset?"
   ]
  },
  {
   "cell_type": "markdown",
   "id": "32c09070-d96b-4478-ac4e-edc6e752300a",
   "metadata": {},
   "source": [
    "# **Strategies for imbalanced dataset evaluation:**\n",
    "\n",
    "* **Precision, recall, F1-score:** Measure model performance beyond accuracy.\n",
    "* **ROC curve, AUC:** Visualize model performance, calculate area under ROC curve.\n",
    "* **Confusion matrix:** Analyze model predictions, identify misclassifications.\n",
    "* **Class weighting:** Assign higher weights to minority class during training.\n",
    "* **Undersampling/oversampling:** Balance dataset before training.\n",
    "* **Cost-sensitive learning:** Assign different costs to misclassification errors.\n"
   ]
  },
  {
   "cell_type": "markdown",
   "id": "7475a95f-9f0d-4e63-bded-8b78e3adcd18",
   "metadata": {},
   "source": [
    "## Q10: When attempting to estimate customer satisfaction for a project, you discover that the dataset is unbalanced, with the bulk of customers reporting being satisfied. What methods can you employ to balance the dataset and down-sample the majority class?"
   ]
  },
  {
   "cell_type": "markdown",
   "id": "386c68af-ed85-4b1e-8593-be359daf34b2",
   "metadata": {},
   "source": [
    "# **Down-sampling majority class:**\n",
    "\n",
    "* **Random under-sampling:** Randomly remove instances from majority class.\n",
    "* **Cluster-based under-sampling:** Cluster majority class, then remove instances from each cluster.\n",
    "* **NearMiss:** Removes majority class instances close to minority class.\n",
    "* **Tomek links:** Removes majority class instances close to minority class without any instances of the majority class between them. \n"
   ]
  },
  {
   "cell_type": "code",
   "execution_count": null,
   "id": "019084e3-898f-45ea-8759-e020e7d9007d",
   "metadata": {},
   "outputs": [],
   "source": []
  }
 ],
 "metadata": {
  "kernelspec": {
   "display_name": "Python 3 (ipykernel)",
   "language": "python",
   "name": "python3"
  },
  "language_info": {
   "codemirror_mode": {
    "name": "ipython",
    "version": 3
   },
   "file_extension": ".py",
   "mimetype": "text/x-python",
   "name": "python",
   "nbconvert_exporter": "python",
   "pygments_lexer": "ipython3",
   "version": "3.10.8"
  }
 },
 "nbformat": 4,
 "nbformat_minor": 5
}
