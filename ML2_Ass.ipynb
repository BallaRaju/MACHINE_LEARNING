{
 "cells": [
  {
   "cell_type": "markdown",
   "id": "dbf39f5e-07de-4672-9a9f-da3b856831d2",
   "metadata": {},
   "source": [
    "# Q1: Define overfitting and underfitting in machine learning. What are the consequences of each, and how can they be mitigated?\n"
   ]
  },
  {
   "cell_type": "markdown",
   "id": "c637f06e-00c2-454f-a8c9-2f9772dc5513",
   "metadata": {},
   "source": [
    "## Overfitting: Model learns noise, poor generalization.Underfitting: Model too simple, high bias. Mitigate: Regularization, cross-validation, early stopping, more data.   Sources and related content"
   ]
  },
  {
   "cell_type": "markdown",
   "id": "66c6cc88-697a-490b-a469-fd041469a131",
   "metadata": {},
   "source": [
    "# Q2: How can we reduce overfitting? Explain in brief."
   ]
  },
  {
   "cell_type": "markdown",
   "id": "76e935cf-5bdd-45d7-a62d-58708daa6f55",
   "metadata": {},
   "source": [
    "## Regularization, cross-validation, early stopping, feature selection, data augmentation."
   ]
  },
  {
   "cell_type": "markdown",
   "id": "3580eb21-7353-4950-9874-7859e2545106",
   "metadata": {},
   "source": [
    "# Q3: Explain underfitting. List scenarios where underfitting can occur in ML."
   ]
  },
  {
   "cell_type": "markdown",
   "id": "2707c720-3060-4dd4-8541-0dcb6eeda511",
   "metadata": {},
   "source": [
    "## Underfitting: Model too simple, high bias, poor performance. Occurs with small datasets, complex models, insufficient feature engineering.\n"
   ]
  },
  {
   "cell_type": "markdown",
   "id": "81807b19-2492-4252-a324-521b5a4f49c4",
   "metadata": {},
   "source": [
    "# Q4: Explain the bias-variance tradeoff in machine learning. What is the relationship between bias and variance, and how do they affect model performance?"
   ]
  },
  {
   "cell_type": "markdown",
   "id": "e2f0f230-0ac9-456f-b7a0-b29e5771202c",
   "metadata": {},
   "source": [
    "## Bias: Error due to model assumptions. Variance: Model sensitivity to data fluctuations. High bias, underfitting; high variance, overfitting. Optimal model balances both. \n"
   ]
  },
  {
   "cell_type": "markdown",
   "id": "a58d5fd3-4c06-47cf-a96b-5a935b36a43e",
   "metadata": {},
   "source": [
    "# Q5: Discuss some common methods for detecting overfitting and underfitting in machine learning models.How can you determine whether your model is overfitting or underfitting?"
   ]
  },
  {
   "cell_type": "markdown",
   "id": "18625e99-028e-406e-aa5b-3d9ecf4fca1b",
   "metadata": {},
   "source": [
    "## Overfitting: High training accuracy, low test accuracy. Underfitting: Low training and test accuracy. Use cross-validation, learning curves, and visualization.\n"
   ]
  },
  {
   "cell_type": "markdown",
   "id": "da9a8293-7e34-440e-b0e4-462357d274f3",
   "metadata": {},
   "source": [
    "# Q6: Compare and contrast bias and variance in machine learning. What are some examples of high bias and high variance models, and how do they differ in terms of their performance?"
   ]
  },
  {
   "cell_type": "markdown",
   "id": "12088820-ae78-4939-a09f-1d0edbdb0897",
   "metadata": {},
   "source": [
    "## Bias: Systematic error, underfitting. Variance: Sensitivity to data, overfitting. High bias: Linear regression, naive Bayes. High variance: Decision trees, complex neural networks. Bias-variance tradeoff crucial for optimal performance. \n"
   ]
  },
  {
   "cell_type": "markdown",
   "id": "977d3722-0108-4db4-b4e5-66080ad56942",
   "metadata": {},
   "source": [
    "# Q7: What is regularization in machine learning, and how can it be used to prevent overfitting? Describe some common regularization techniques and how they work."
   ]
  },
  {
   "cell_type": "markdown",
   "id": "689da98e-e930-4e03-8ef4-28a75d01d691",
   "metadata": {},
   "source": [
    "## Regularization: Penalizes complex models to prevent overfitting. Techniques: L1 (Lasso), L2 (Ridge), dropout, early stopping. L1/L2 add penalty to loss function, dropout randomly removes neurons, early stopping stops training before overfitting.\n"
   ]
  },
  {
   "cell_type": "code",
   "execution_count": null,
   "id": "4bb9b6a5-8ab5-4997-aee6-e5af33be9330",
   "metadata": {},
   "outputs": [],
   "source": []
  }
 ],
 "metadata": {
  "kernelspec": {
   "display_name": "Python 3 (ipykernel)",
   "language": "python",
   "name": "python3"
  },
  "language_info": {
   "codemirror_mode": {
    "name": "ipython",
    "version": 3
   },
   "file_extension": ".py",
   "mimetype": "text/x-python",
   "name": "python",
   "nbconvert_exporter": "python",
   "pygments_lexer": "ipython3",
   "version": "3.10.8"
  }
 },
 "nbformat": 4,
 "nbformat_minor": 5
}
